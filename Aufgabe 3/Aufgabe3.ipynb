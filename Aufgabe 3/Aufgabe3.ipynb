{
 "cells": [
  {
   "cell_type": "code",
   "execution_count": 1,
   "metadata": {},
   "outputs": [
    {
     "name": "stdout",
     "output_type": "stream",
     "text": [
      "10x10 Tensor:  tensor([[  1,   2,   3,   4,   5,   6,   7,   8,   9,  10],\n",
      "        [ 11,  12,  13,  14,  15,  16,  17,  18,  19,  20],\n",
      "        [ 21,  22,  23,  24,  25,  26,  27,  28,  29,  30],\n",
      "        [ 31,  32,  33,  34,  35,  36,  37,  38,  39,  40],\n",
      "        [ 41,  42,  43,  44,  45,  46,  47,  48,  49,  50],\n",
      "        [ 51,  52,  53,  54,  55,  56,  57,  58,  59,  60],\n",
      "        [ 61,  62,  63,  64,  65,  66,  67,  68,  69,  70],\n",
      "        [ 71,  72,  73,  74,  75,  76,  77,  78,  79,  80],\n",
      "        [ 81,  82,  83,  84,  85,  86,  87,  88,  89,  90],\n",
      "        [ 91,  92,  93,  94,  95,  96,  97,  98,  99, 100]], dtype=torch.int8)\n"
     ]
    }
   ],
   "source": [
    "import torch\n",
    "import numpy as np\n",
    "from PIL import Image\n",
    "from torchvision import transforms\n",
    "import matplotlib.pyplot as plt\n",
    "\n",
    "t10 = torch.tensor(np.arange(1,101)).reshape((10,10)).to(torch.int8)\n",
    "print(\"10x10 Tensor: \", t10)"
   ]
  },
  {
   "cell_type": "code",
   "execution_count": 2,
   "metadata": {},
   "outputs": [
    {
     "name": "stdout",
     "output_type": "stream",
     "text": [
      "Transposed Tensor:  tensor([[  1,  11,  21,  31,  41,  51,  61,  71,  81,  91],\n",
      "        [  2,  12,  22,  32,  42,  52,  62,  72,  82,  92],\n",
      "        [  3,  13,  23,  33,  43,  53,  63,  73,  83,  93],\n",
      "        [  4,  14,  24,  34,  44,  54,  64,  74,  84,  94],\n",
      "        [  5,  15,  25,  35,  45,  55,  65,  75,  85,  95],\n",
      "        [  6,  16,  26,  36,  46,  56,  66,  76,  86,  96],\n",
      "        [  7,  17,  27,  37,  47,  57,  67,  77,  87,  97],\n",
      "        [  8,  18,  28,  38,  48,  58,  68,  78,  88,  98],\n",
      "        [  9,  19,  29,  39,  49,  59,  69,  79,  89,  99],\n",
      "        [ 10,  20,  30,  40,  50,  60,  70,  80,  90, 100]], dtype=torch.int8)\n",
      "2697358544128\n",
      "2697358541824\n",
      "False\n"
     ]
    },
    {
     "name": "stderr",
     "output_type": "stream",
     "text": [
      "C:\\Users\\Maja\\AppData\\Local\\Temp\\ipykernel_15268\\2302876131.py:3: UserWarning: TypedStorage is deprecated. It will be removed in the future and UntypedStorage will be the only storage class. This should only matter to you if you are using storages directly.  To access UntypedStorage directly, use tensor.untyped_storage() instead of tensor.storage()\n",
      "  print(id(t10.storage()))\n",
      "C:\\Users\\Maja\\AppData\\Local\\Temp\\ipykernel_15268\\2302876131.py:4: UserWarning: TypedStorage is deprecated. It will be removed in the future and UntypedStorage will be the only storage class. This should only matter to you if you are using storages directly.  To access UntypedStorage directly, use tensor.untyped_storage() instead of tensor.storage()\n",
      "  print(id(t10T.storage()))\n",
      "C:\\Users\\Maja\\AppData\\Local\\Temp\\ipykernel_15268\\2302876131.py:5: UserWarning: TypedStorage is deprecated. It will be removed in the future and UntypedStorage will be the only storage class. This should only matter to you if you are using storages directly.  To access UntypedStorage directly, use tensor.untyped_storage() instead of tensor.storage()\n",
      "  print(id(t10.storage()) == id(t10T.storage())) #transpose\n"
     ]
    }
   ],
   "source": [
    "t10T = t10.t()\n",
    "print(\"Transposed Tensor: \", t10T)\n",
    "print(id(t10.storage()))\n",
    "print(id(t10T.storage()))\n",
    "print(id(t10.storage()) == id(t10T.storage())) "
   ]
  },
  {
   "cell_type": "code",
   "execution_count": 3,
   "metadata": {},
   "outputs": [
    {
     "name": "stdout",
     "output_type": "stream",
     "text": [
      "Submatrix:  tensor([[ 12,  13,  14,  15,  16,  17,  18,  19,  20],\n",
      "        [ 22,  23,  24,  25,  26,  27,  28,  29,  30],\n",
      "        [ 32,  33,  34,  35,  36,  37,  38,  39,  40],\n",
      "        [ 42,  43,  44,  45,  46,  47,  48,  49,  50],\n",
      "        [ 52,  53,  54,  55,  56,  57,  58,  59,  60],\n",
      "        [ 62,  63,  64,  65,  66,  67,  68,  69,  70],\n",
      "        [ 72,  73,  74,  75,  76,  77,  78,  79,  80],\n",
      "        [ 82,  83,  84,  85,  86,  87,  88,  89,  90],\n",
      "        [ 92,  93,  94,  95,  96,  97,  98,  99, 100]], dtype=torch.int8)\n",
      "Stride of Submatrix:  (10, 1)\n",
      "Size of Submatrix:  torch.Size([9, 9])\n",
      "Offset of Submatrix:  11\n"
     ]
    }
   ],
   "source": [
    "t9 = t10[1:,1:]\n",
    "print(\"Submatrix: \", t9)\n",
    "\n",
    "print(\"Stride of Submatrix: \", t9.stride())\n",
    "print(\"Size of Submatrix: \", t9.size())\n",
    "print(\"Offset of Submatrix: \", t9.storage_offset()) #print"
   ]
  },
  {
   "cell_type": "code",
   "execution_count": 4,
   "metadata": {},
   "outputs": [
    {
     "name": "stdout",
     "output_type": "stream",
     "text": [
      "Inverse Matrix: tensor([[-5.0811e-03, -8.6346e-03, -4.6512e-03,  5.2805e-03,  2.8723e-03,\n",
      "         -8.1341e-03,  8.6395e-03, -5.8710e-03,  1.7160e-02, -2.3705e-03],\n",
      "        [-1.2455e-02, -1.3236e-03, -1.7764e-03,  4.5583e-03,  1.4000e-03,\n",
      "         -5.0634e-03,  1.3952e-03,  1.4143e-03,  9.5566e-03,  2.8317e-03],\n",
      "        [-8.2095e-03,  6.2068e-03,  6.6815e-03,  7.1783e-03, -1.0949e-02,\n",
      "         -6.1174e-03,  8.8931e-03,  8.2810e-03,  4.5187e-03, -8.8621e-03],\n",
      "        [ 4.6041e-03, -2.2615e-03, -4.7168e-03,  1.4123e-03,  3.6297e-03,\n",
      "          8.5453e-03, -3.2468e-03,  1.6386e-03,  4.1720e-03, -1.3077e-02],\n",
      "        [ 1.6980e-02,  1.1170e-02, -2.5725e-03, -1.3397e-02,  8.6443e-03,\n",
      "          8.0990e-03, -1.6015e-02,  1.1735e-04, -1.2467e-02, -3.5316e-03],\n",
      "        [ 1.2882e-03, -6.1099e-03,  1.6741e-02, -2.1107e-03,  6.8614e-04,\n",
      "          3.3223e-03,  1.4737e-03, -8.2068e-04, -1.2774e-02,  6.5247e-03],\n",
      "        [-2.9177e-03,  1.2779e-02, -1.2564e-02,  8.7221e-03, -2.1412e-03,\n",
      "          3.2372e-03,  1.2389e-03, -3.6546e-03, -8.1714e-03,  3.6388e-03],\n",
      "        [ 6.4118e-03, -1.3260e-03,  4.3548e-03, -1.1770e-02,  1.3191e-03,\n",
      "          4.6506e-03, -3.2945e-04,  3.4551e-03, -8.0967e-03,  5.5304e-03],\n",
      "        [ 8.4332e-04, -4.7628e-03,  1.5037e-02, -1.3573e-03, -1.3036e-02,\n",
      "         -2.0858e-04, -1.6296e-03, -1.5421e-03,  8.9735e-03,  1.4224e-03],\n",
      "        [ 6.4345e-05, -1.7353e-03, -1.4798e-02,  4.9965e-03,  7.0958e-03,\n",
      "         -1.0349e-02,  8.9920e-04,  1.5875e-03, -1.9736e-03,  9.9826e-03]])\n",
      "[[ True  True  True  True  True  True  True  True  True  True]\n",
      " [ True  True  True  True  True  True  True  True  True  True]\n",
      " [ True  True  True  True  True  True  True  True  True  True]\n",
      " [ True  True  True  True  True  True  True  True  True  True]\n",
      " [ True  True  True  True  True  True  True  True  True  True]\n",
      " [ True  True  True  True  True  True  True  True  True  True]\n",
      " [ True  True  True  True  True  True  True  True  True  True]\n",
      " [ True  True  True  True  True  True  True  True  True  True]\n",
      " [ True  True  True  True  True  True  True  True  True  True]\n",
      " [ True  True  True  True  True  True  True  True  True  True]]\n"
     ]
    }
   ],
   "source": [
    "tRand = torch.randint(low=1, high=99, size=[10,10], dtype=torch.float)\n",
    "tInv = torch.inverse(tRand)\n",
    "print(\"Inverse Matrix:\", tInv)\n",
    "tUnity = torch.round((tRand @ tInv), decimals=3)\n",
    "mUnity = np.array(tUnity)\n",
    "print(mUnity == np.eye(10))"
   ]
  },
  {
   "cell_type": "code",
   "execution_count": 5,
   "metadata": {},
   "outputs": [
    {
     "name": "stdout",
     "output_type": "stream",
     "text": [
      "torch.Size([100, 100, 3])\n",
      "(260, 1, 50440)\n"
     ]
    },
    {
     "data": {
      "text/plain": [
       "<matplotlib.image.AxesImage at 0x274183cd9a0>"
      ]
     },
     "execution_count": 5,
     "metadata": {},
     "output_type": "execute_result"
    },
    {
     "data": {
      "image/png": "[encoded data removed]",
      "text/plain": [
       "<Figure size 640x480 with 1 Axes>"
      ]
     },
     "metadata": {},
     "output_type": "display_data"
    }
   ],
   "source": [
    "img = Image.open(\"Katze.jpg\")\n",
    "preprocess = transforms.ToTensor()\n",
    "imgP = preprocess(img).permute(1,2,0)\n",
    "imgCrop = imgP[30:130,50:150,:]\n",
    "\n",
    "print(imgCrop.shape)\n",
    "print(imgP.stride())\n",
    "img_strided = torch.as_strided(imgCrop, size=(50, 50, 3), stride=(520, 2, 50440))\n",
    "\n",
    "plt.imshow(img_strided)"
   ]
  }
 ],
 "metadata": {
  "kernelspec": {
   "display_name": "Python 3",
   "language": "python",
   "name": "python3"
  },
  "language_info": {
   "codemirror_mode": {
    "name": "ipython",
    "version": 3
   },
   "file_extension": ".py",
   "mimetype": "text/x-python",
   "name": "python",
   "nbconvert_exporter": "python",
   "pygments_lexer": "ipython3",
   "version": "3.9.13"
  },
  "orig_nbformat": 4
 },
 "nbformat": 4,
 "nbformat_minor": 2
}
